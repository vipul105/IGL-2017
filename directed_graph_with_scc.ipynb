{
 "cells": [
  {
   "cell_type": "code",
   "execution_count": 1,
   "metadata": {
    "collapsed": true
   },
   "outputs": [],
   "source": [
    "import pandas as pd\n",
    "\n",
    "links = pd.read_csv(\"data/links.csv\")\n",
    "nodes = pd.read_csv(\"data/nodes.csv\")"
   ]
  },
  {
   "cell_type": "code",
   "execution_count": 2,
   "metadata": {
    "collapsed": true
   },
   "outputs": [],
   "source": [
    "import numpy as np\n",
    "import matplotlib.pyplot as plt\n",
    "%matplotlib inline"
   ]
  },
  {
   "cell_type": "code",
   "execution_count": 3,
   "metadata": {
    "collapsed": true
   },
   "outputs": [],
   "source": [
    "requirs = pd.read_csv(\"data/Errors.csv\", header=None)\n",
    "requirs = np.array(requirs)\n",
    "\n",
    "req_links = requirs[0,:]\n",
    "errs = list(requirs[1,:])"
   ]
  },
  {
   "cell_type": "code",
   "execution_count": 4,
   "metadata": {
    "collapsed": false
   },
   "outputs": [],
   "source": [
    "v = {}\n",
    "for link in req_links:\n",
    "    coords=links[['startX','endX','startY','endY']][links['link_id']==link].values[0]\n",
    "    v[link] = [(coords[0],coords[2]),(coords[1], coords[3])]\n",
    "  "
   ]
  },
  {
   "cell_type": "markdown",
   "metadata": {},
   "source": [
    "## Strongly Connected Component"
   ]
  },
  {
   "cell_type": "code",
   "execution_count": 5,
   "metadata": {
    "collapsed": true
   },
   "outputs": [],
   "source": [
    "import tarjan"
   ]
  },
  {
   "cell_type": "code",
   "execution_count": 6,
   "metadata": {
    "collapsed": false
   },
   "outputs": [],
   "source": [
    "vertices = []\n",
    "for link in v:\n",
    "    vertices.append(v[link][0])\n",
    "    vertices.append(v[link][1])\n",
    "#    print(link)\n",
    "    \n",
    "vertices = list(set(vertices))"
   ]
  },
  {
   "cell_type": "code",
   "execution_count": 7,
   "metadata": {
    "collapsed": false
   },
   "outputs": [],
   "source": [
    "# #build start vertices-links dictionary\n",
    "\n",
    "# l = {}\n",
    "# for link in v:\n",
    "#     cur_start = v[link][0]\n",
    "#     if cur_start not in l:\n",
    "#         l[cur_start] = [link]\n",
    "#     else:\n",
    "#         l[cur_start].append(link)\n",
    "\n",
    "        "
   ]
  },
  {
   "cell_type": "code",
   "execution_count": 41,
   "metadata": {
    "collapsed": false
   },
   "outputs": [
    {
     "name": "stdout",
     "output_type": "stream",
     "text": [
      "components =  0\n",
      "components =  48\n",
      "components =  84\n",
      "components =  86\n",
      "components =  87\n",
      "components =  93\n",
      "components =  78\n",
      "components =  50\n",
      "components =  62\n"
     ]
    }
   ],
   "source": [
    "thresholds = list(range(10,95))\n",
    "linkslists = []\n",
    "v_out_list = []\n",
    "for i in range(len(thresholds)):\n",
    "    threshold = thresholds[i]\n",
    "    qualifiedIdx = [errs.index(t) for t in errs if t is not np.nan and int(t)<threshold]\n",
    "    qualifiedIdx = list(set(qualifiedIdx))\n",
    "    qualifiedLinks = [req_links[idx] for idx in qualifiedIdx]\n",
    "\n",
    "    vertices = []\n",
    "    start_vertices = []\n",
    "    v_out = {}\n",
    "    for link in qualifiedLinks:\n",
    "        coords=links[['startX','endX','startY','endY']][links['link_id']==link].values[0]\n",
    "        if v[link][0] not in v_out:\n",
    "            v_out[v[link][0]] = []\n",
    "        v_out[v[link][0]].append(v[link][1])\n",
    "        \n",
    "        \n",
    "    for n in list(v_out.keys()):\n",
    "        for nb in v_out[n]:\n",
    "            if nb not in v_out:\n",
    "                v_out[nb] = []\n",
    "\n",
    "    v_out_list.append(v_out)\n",
    "    \n",
    "    temp = tarjan.tarjan(v_out)\n",
    "    #components = [temp[j] for j in range(len(temp)) if len(temp[j])>1]\n",
    "    components = temp\n",
    "    if i % 10 == 0:\n",
    "        print(\"components = \" , len(components))\n",
    "    linkslists.append(components)"
   ]
  },
  {
   "cell_type": "markdown",
   "metadata": {},
   "source": [
    "## Count Path based on Mate-Graph"
   ]
  },
  {
   "cell_type": "code",
   "execution_count": 42,
   "metadata": {
    "collapsed": true
   },
   "outputs": [],
   "source": [
    "#build meta-graph\n",
    "\n",
    "def countPaths(graph, scc):\n",
    "\n",
    "    scc_ref = {}\n",
    "\n",
    "    for i in range(len(scc)):\n",
    "        for n in scc[i]:\n",
    "            scc_ref[n] = 'scc_' + str(i)\n",
    "\n",
    "    #print(scc)\n",
    "    #print(scc_ref)\n",
    "\n",
    "    metagraph = {}\n",
    "\n",
    "    for n in graph:\n",
    "        scc_node = scc_ref[n]\n",
    "        if scc_node in metagraph:\n",
    "            current_node = metagraph[scc_node]\n",
    "        else:\n",
    "            current_node = set()\n",
    "\n",
    "        new_node = set([scc_ref[neighbor]  for neighbor in graph[n] if scc_ref[neighbor] != scc_node])\n",
    "\n",
    "        metagraph[scc_node] = current_node.union(new_node)\n",
    "\n",
    "    #print(metagraph)\n",
    "\n",
    "\n",
    "    sources = set(metagraph.keys())\n",
    "\n",
    "    for n, neighbors, in metagraph.items():\n",
    "        for nb in neighbors:\n",
    "            try:\n",
    "                sources.remove(nb)\n",
    "            except:\n",
    "                pass\n",
    "\n",
    "    cache = {}\n",
    "    def paths(node):\n",
    "        if node in cache:\n",
    "            return cache[node]\n",
    "\n",
    "        if len(metagraph[node]) == 0:\n",
    "            return 1\n",
    "\n",
    "        cache[node] = np.sum([paths(nb) for nb in metagraph[node]])\n",
    "        return cache[node]\n",
    "\n",
    "    return(np.sum([paths(ss) for ss in sources]))"
   ]
  },
  {
   "cell_type": "code",
   "execution_count": 45,
   "metadata": {
    "collapsed": false
   },
   "outputs": [],
   "source": [
    "count_list = []\n",
    "for graph, scc in zip(v_out_list, linkslists):   \n",
    "    c = countPaths(graph,scc)\n",
    "    count_list.append(c)"
   ]
  },
  {
   "cell_type": "code",
   "execution_count": 48,
   "metadata": {
    "collapsed": false
   },
   "outputs": [
    {
     "data": {
      "text/plain": [
       "[<matplotlib.lines.Line2D at 0x112630dd8>]"
      ]
     },
     "execution_count": 48,
     "metadata": {},
     "output_type": "execute_result"
    },
    {
     "data": {
      "image/png": "[encoded data removed]",
      "text/plain": [
       "<matplotlib.figure.Figure at 0x113702dd8>"
      ]
     },
     "metadata": {},
     "output_type": "display_data"
    }
   ],
   "source": [
    "plt.plot(count_list)"
   ]
  },
  {
   "cell_type": "code",
   "execution_count": 13,
   "metadata": {
    "collapsed": false
   },
   "outputs": [
    {
     "data": {
      "text/plain": [
       "56"
      ]
     },
     "execution_count": 13,
     "metadata": {},
     "output_type": "execute_result"
    }
   ],
   "source": [
    "a = [1,2,3,4,56]\n",
    "a[-1]"
   ]
  },
  {
   "cell_type": "code",
   "execution_count": 9,
   "metadata": {
    "collapsed": true
   },
   "outputs": [],
   "source": [
    "orderDic = {}\n",
    "orderDicList = []\n",
    "\n",
    "#108512 in order \n",
    "count = 0\n",
    "for perThres in linkslists:\n",
    "    #perThres = linkslists[20]\n",
    "    for perComp in perThres:\n",
    "        #get the minimum order in this component if exist, get the order for this component\n",
    "        orders = [orderDic[link] for link in perComp if link in orderDic]\n",
    "        if len(orders) == 0:\n",
    "            count = count + 1\n",
    "            minOrder = count\n",
    "        else:\n",
    "            minOrder = min(orders)\n",
    "        #sign the link with minimum order\n",
    "        for link in perComp:\n",
    "            orderDic[link] = minOrder\n",
    "    #print(len(orderDic))\n",
    "    #temp = copy.deepcopy(orderDic)\n",
    "    #deep copy\n",
    "    temp = {}\n",
    "    for key in orderDic:\n",
    "        temp[key] = orderDic[key]\n",
    "    orderDicList.append(temp)"
   ]
  },
  {
   "cell_type": "code",
   "execution_count": 10,
   "metadata": {
    "collapsed": false
   },
   "outputs": [
    {
     "name": "stdout",
     "output_type": "stream",
     "text": [
      "132\n"
     ]
    }
   ],
   "source": [
    "maxn = []\n",
    "#print(orderDicList[12])\n",
    "#print(max(orderDicList[12].values()))\n",
    "\n",
    "for orderDic in orderDicList:\n",
    "    if len(orderDic) is not 0:\n",
    "        n = max(orderDic.values())\n",
    "        maxn.append(n)\n",
    "\n",
    "n = max(maxn)\n",
    "print(n)\n",
    "begin = []\n",
    "life = []\n",
    "for i in range(1,(n+1)):\n",
    "    count = 0\n",
    "    for j in range(len(orderDicList)):\n",
    "        if i in orderDicList[j].values():\n",
    "            if count == 0:\n",
    "                beginP = j+1\n",
    "            count = count+1\n",
    "        #elif i == 1 and i not in orderDicList[j].values():\n",
    "            #print(j)\n",
    "    begin.append(beginP)\n",
    "    life.append(count)"
   ]
  },
  {
   "cell_type": "code",
   "execution_count": 11,
   "metadata": {
    "collapsed": false
   },
   "outputs": [
    {
     "data": {
      "image/png": "[encoded data removed]",
      "text/plain": [
       "<matplotlib.figure.Figure at 0x1138cf630>"
      ]
     },
     "metadata": {},
     "output_type": "display_data"
    }
   ],
   "source": [
    "begin = np.array(begin)+9\n",
    "end = np.array(begin) + np.array(life)\n",
    "\n",
    "fig0=plt.figure()\n",
    "#y = [(i+1) for i in range(len(barcode))]\n",
    "y = [(i+1) for i in range(len(life))]\n",
    "#x = [(barcode[i][1]+barcode[i][0])/2 for i in range(len(barcode))]\n",
    "x = [(begin[i] + end[i])/2 for i in range(len(life))]\n",
    "#x_err = [(barcode[i][1]-barcode[i][0])/2 for i in range(len(barcode))]\n",
    "x_err = [(begin[i] - end[i])/2 for i in range(len(life))]\n",
    "_, caps, _ = plt.errorbar(x=x, y=y, xerr=x_err, ls='',\n",
    "                          elinewidth=3, capsize=5)\n",
    "for cap in caps:\n",
    "    cap.set_markeredgewidth(0)\n",
    "plt.grid(True)\n",
    "\n",
    "# Set the y-range so we can see all the errorbars clearly\n",
    "plt.ylim(0, len(life)+2)\n",
    "plt.show()\n",
    "\n"
   ]
  },
  {
   "cell_type": "markdown",
   "metadata": {},
   "source": [
    "## check strongly components"
   ]
  },
  {
   "cell_type": "code",
   "execution_count": null,
   "metadata": {
    "collapsed": true
   },
   "outputs": [],
   "source": []
  },
  {
   "cell_type": "code",
   "execution_count": 87,
   "metadata": {
    "collapsed": false
   },
   "outputs": [
    {
     "data": {
      "image/png": "[encoded data removed]",
      "text/plain": [
       "<matplotlib.figure.Figure at 0x115f14898>"
      ]
     },
     "metadata": {},
     "output_type": "display_data"
    }
   ],
   "source": [
    "plt.xlim([-74,-73.96])\n",
    "plt.ylim([40.75,40.76])\n",
    "for key,value in v_out.items():\n",
    "    for end in value:\n",
    "        plt.arrow(key[0], key[1], (end[0]-key[0]), (end[1]-key[1]),width = 0.00005, head_width=0.0005, head_length=0.0005, \n",
    "               fc='k', ec='k')\n",
    "plt.show()"
   ]
  },
  {
   "cell_type": "code",
   "execution_count": 6,
   "metadata": {
    "collapsed": true
   },
   "outputs": [],
   "source": [
    "def connectedComponent(v, visit):\n",
    "    queue = []\n",
    "    perThreshold = []\n",
    "    #neighbors dictionary\n",
    "    neighbor = {}\n",
    "    for vertex in vertices_sets:\n",
    "        neighbor[vertex] = []\n",
    "        \n",
    "    component = 0\n",
    "    for i in range(len(vertices_sets)):\n",
    "            #pick an unvisited point\n",
    "            if visit[vertices_sets[i]] == False:\n",
    "                queue.append(vertices_sets[i])\n",
    "                perCompL = []\n",
    "                while len(queue)!=0:\n",
    "                    #flag as visit, and pop\n",
    "                    cur = queue.pop(0)\n",
    "                    visit[cur] = True            \n",
    "                    #find unvisited neighbor, push it to queue, and push it to neighbor dictionary\n",
    "                    for link in qualifiedLinks:\n",
    "                        if cur == v[link][0] and visit[v[link][1]] == False:\n",
    "                            queue.append(v[link][1])\n",
    "                            neighbor[cur].append(v[link][1])\n",
    "                            perCompL.append(link)\n",
    "                        elif cur == v[link][1] and visit[v[link][0]] == False:\n",
    "                            queue.append(v[link][0])\n",
    "                            neighbor[cur].append(v[link][0])\n",
    "                            perCompL.append(link)\n",
    "                        #print(\"curLink = \" + str(link) + \"currnet component\" + str(perCompL))\n",
    "                component = component + 1\n",
    "                perThreshold.append(perCompL)\n",
    "    return component,perThreshold"
   ]
  },
  {
   "cell_type": "code",
   "execution_count": 9,
   "metadata": {
    "collapsed": false
   },
   "outputs": [
    {
     "name": "stdout",
     "output_type": "stream",
     "text": [
      "err = 10 has cc =0\n",
      "err = 20 has cc =8\n",
      "err = 30 has cc =10\n",
      "err = 40 has cc =10\n",
      "err = 50 has cc =11\n",
      "err = 60 has cc =10\n",
      "err = 70 has cc =3\n"
     ]
    }
   ],
   "source": [
    "thresholds = list(range(10,71))\n",
    "num_cc = []\n",
    "linkslists = [] \n",
    "\n",
    "for i in range(len(thresholds)):\n",
    "#    i = 20\n",
    "    threshold = thresholds[i]\n",
    "    qualifiedIdx = [errs.index(t) for t in errs if t is not np.nan and int(t)<threshold]\n",
    "    qualifiedIdx = list(set(qualifiedIdx))\n",
    "    qualifiedLinks = [req_links[idx] for idx in qualifiedIdx]\n",
    "    #print(\"qualify: \" + str(qualifiedLinks))\n",
    "    \n",
    "    vertices = []\n",
    "    for link in qualifiedLinks:\n",
    "        coords=links[['startX','endX','startY','endY']][links['link_id']==link].values[0]\n",
    "        vertices.append(v[link][0])\n",
    "        vertices.append(v[link][1])\n",
    "    vertices_sets = list(set(vertices))\n",
    "    \n",
    "    \n",
    "    visit = {}\n",
    "    for vertex in vertices_sets:\n",
    "        visit[vertex] = False\n",
    "        \n",
    "    num_components, perThreshold = connectedComponent(v,visit)\n",
    "    linkslists.append(perThreshold)\n",
    "    num_cc.append(num_components)\n",
    "    if i % 10 == 0 or i > 70:\n",
    "        print('err = '+str(thresholds[i]) + \" has cc =\" + str(num_components))\n",
    "\n"
   ]
  },
  {
   "cell_type": "code",
   "execution_count": 62,
   "metadata": {
    "collapsed": false
   },
   "outputs": [
    {
     "data": {
      "text/plain": [
       "[[161318.0,\n",
       "  195238.0,\n",
       "  203555.0,\n",
       "  204692.0,\n",
       "  146916.0,\n",
       "  159427.0,\n",
       "  160112.0,\n",
       "  168291.0,\n",
       "  161028.0,\n",
       "  194912.0,\n",
       "  194930.0,\n",
       "  146916.0,\n",
       "  159427.0,\n",
       "  160112.0,\n",
       "  168291.0,\n",
       "  161028.0,\n",
       "  194912.0,\n",
       "  194930.0,\n",
       "  146531.0,\n",
       "  146600.0,\n",
       "  147226.0,\n",
       "  168289.0,\n",
       "  168551.0,\n",
       "  168570.0,\n",
       "  168289.0,\n",
       "  168551.0,\n",
       "  168570.0,\n",
       "  194902.0,\n",
       "  194946.0,\n",
       "  146531.0,\n",
       "  146600.0,\n",
       "  147226.0,\n",
       "  168289.0,\n",
       "  168551.0,\n",
       "  168570.0,\n",
       "  168289.0,\n",
       "  168551.0,\n",
       "  168570.0,\n",
       "  194902.0,\n",
       "  194946.0,\n",
       "  203126.0,\n",
       "  146626.0,\n",
       "  168582.0,\n",
       "  120383.0,\n",
       "  158630.0,\n",
       "  168533.0,\n",
       "  168582.0,\n",
       "  120383.0,\n",
       "  158630.0,\n",
       "  168533.0,\n",
       "  168582.0,\n",
       "  194888.0,\n",
       "  203126.0,\n",
       "  146626.0,\n",
       "  168582.0,\n",
       "  120383.0,\n",
       "  158630.0,\n",
       "  168533.0,\n",
       "  168582.0,\n",
       "  120383.0,\n",
       "  158630.0,\n",
       "  168533.0,\n",
       "  168582.0,\n",
       "  194888.0,\n",
       "  148462.0,\n",
       "  195183.0,\n",
       "  147268.0,\n",
       "  168599.0,\n",
       "  119161.0,\n",
       "  168599.0,\n",
       "  119161.0,\n",
       "  168599.0,\n",
       "  194881.0,\n",
       "  148462.0,\n",
       "  147268.0,\n",
       "  168599.0,\n",
       "  119161.0,\n",
       "  168599.0,\n",
       "  119161.0,\n",
       "  168599.0,\n",
       "  194881.0,\n",
       "  146462.0,\n",
       "  167734.0,\n",
       "  194881.0,\n",
       "  178088.0,\n",
       "  178088.0,\n",
       "  119207.0,\n",
       "  178088.0,\n",
       "  119207.0,\n",
       "  178088.0,\n",
       "  194871.0,\n",
       "  146462.0,\n",
       "  167734.0,\n",
       "  178088.0,\n",
       "  178088.0,\n",
       "  119207.0,\n",
       "  178088.0,\n",
       "  119207.0,\n",
       "  178088.0,\n",
       "  194871.0,\n",
       "  194871.0,\n",
       "  168980.0,\n",
       "  178367.0,\n",
       "  168980.0,\n",
       "  178367.0,\n",
       "  121181.0,\n",
       "  168980.0,\n",
       "  178367.0,\n",
       "  121181.0,\n",
       "  168980.0,\n",
       "  178367.0,\n",
       "  194862.0,\n",
       "  168980.0,\n",
       "  178367.0,\n",
       "  168980.0,\n",
       "  178367.0,\n",
       "  121181.0,\n",
       "  168980.0,\n",
       "  178367.0,\n",
       "  121181.0,\n",
       "  168980.0,\n",
       "  178367.0,\n",
       "  194862.0,\n",
       "  194862.0,\n",
       "  168638.0,\n",
       "  148978.0,\n",
       "  176877.0,\n",
       "  168638.0,\n",
       "  148978.0,\n",
       "  176877.0,\n",
       "  148978.0,\n",
       "  176877.0,\n",
       "  168638.0,\n",
       "  148978.0,\n",
       "  176877.0,\n",
       "  148978.0,\n",
       "  176877.0,\n",
       "  168638.0,\n",
       "  148978.0,\n",
       "  176877.0,\n",
       "  148053.0,\n",
       "  168638.0,\n",
       "  148978.0,\n",
       "  176877.0,\n",
       "  168638.0,\n",
       "  148978.0,\n",
       "  176877.0,\n",
       "  148978.0,\n",
       "  176877.0,\n",
       "  168638.0,\n",
       "  148978.0,\n",
       "  176877.0,\n",
       "  148978.0,\n",
       "  176877.0,\n",
       "  168638.0,\n",
       "  148978.0,\n",
       "  176877.0,\n",
       "  148053.0,\n",
       "  148053.0,\n",
       "  169763.0,\n",
       "  124613.0,\n",
       "  169763.0,\n",
       "  124613.0,\n",
       "  169763.0,\n",
       "  124613.0,\n",
       "  169763.0,\n",
       "  124613.0,\n",
       "  169763.0,\n",
       "  124613.0,\n",
       "  169763.0,\n",
       "  124613.0,\n",
       "  169763.0,\n",
       "  124613.0,\n",
       "  169763.0,\n",
       "  124613.0,\n",
       "  169763.0,\n",
       "  124613.0,\n",
       "  169763.0,\n",
       "  124613.0,\n",
       "  169763.0,\n",
       "  124613.0,\n",
       "  169763.0,\n",
       "  124613.0,\n",
       "  119350.0,\n",
       "  119350.0,\n",
       "  119350.0,\n",
       "  119350.0,\n",
       "  119350.0,\n",
       "  119350.0,\n",
       "  119350.0,\n",
       "  119350.0,\n",
       "  119350.0,\n",
       "  119350.0,\n",
       "  119350.0,\n",
       "  119350.0],\n",
       " [110491.0,\n",
       "  161556.0,\n",
       "  163121.0,\n",
       "  109987.0,\n",
       "  96407.0,\n",
       "  161124.0,\n",
       "  163108.0,\n",
       "  142560.0,\n",
       "  142081.0,\n",
       "  131143.0,\n",
       "  162172.0,\n",
       "  163100.0,\n",
       "  110202.0,\n",
       "  173083.0,\n",
       "  95798.0,\n",
       "  130068.0,\n",
       "  130509.0,\n",
       "  150962.0,\n",
       "  152324.0,\n",
       "  31197.0,\n",
       "  40114.0,\n",
       "  174035.0,\n",
       "  174252.0,\n",
       "  150453.0,\n",
       "  102918.0,\n",
       "  130059.0,\n",
       "  143242.0,\n",
       "  109034.0,\n",
       "  101291.0,\n",
       "  152304.0,\n",
       "  31192.0,\n",
       "  173841.0,\n",
       "  40112.0,\n",
       "  174194.0,\n",
       "  31192.0,\n",
       "  173841.0,\n",
       "  40112.0,\n",
       "  174194.0,\n",
       "  101291.0,\n",
       "  152304.0,\n",
       "  130800.0,\n",
       "  110939.0,\n",
       "  94498.0,\n",
       "  155143.0,\n",
       "  51522.0,\n",
       "  51522.0,\n",
       "  177939.0,\n",
       "  191570.0,\n",
       "  177939.0,\n",
       "  191570.0,\n",
       "  51522.0,\n",
       "  51522.0,\n",
       "  177939.0,\n",
       "  191570.0,\n",
       "  177939.0,\n",
       "  191570.0,\n",
       "  94498.0,\n",
       "  155143.0,\n",
       "  155143.0,\n",
       "  175107.0,\n",
       "  173748.0,\n",
       "  33975.0,\n",
       "  177950.0,\n",
       "  191754.0,\n",
       "  33975.0,\n",
       "  177950.0,\n",
       "  191754.0,\n",
       "  33975.0,\n",
       "  177950.0,\n",
       "  191754.0,\n",
       "  33975.0,\n",
       "  177950.0,\n",
       "  191754.0,\n",
       "  33975.0,\n",
       "  177950.0,\n",
       "  191754.0,\n",
       "  33975.0,\n",
       "  177950.0,\n",
       "  191754.0,\n",
       "  33975.0,\n",
       "  177950.0,\n",
       "  191754.0,\n",
       "  33975.0,\n",
       "  177950.0,\n",
       "  191754.0,\n",
       "  173748.0,\n",
       "  65152.0,\n",
       "  177927.0,\n",
       "  191949.0,\n",
       "  125260.0,\n",
       "  65152.0,\n",
       "  177927.0,\n",
       "  191949.0,\n",
       "  65152.0,\n",
       "  177927.0,\n",
       "  191949.0,\n",
       "  125260.0,\n",
       "  65152.0,\n",
       "  177927.0,\n",
       "  191949.0,\n",
       "  65152.0,\n",
       "  177927.0,\n",
       "  191949.0,\n",
       "  125260.0,\n",
       "  65152.0,\n",
       "  177927.0,\n",
       "  191949.0,\n",
       "  65152.0,\n",
       "  177927.0,\n",
       "  191949.0,\n",
       "  125260.0,\n",
       "  65152.0,\n",
       "  177927.0,\n",
       "  191949.0,\n",
       "  65152.0,\n",
       "  177927.0,\n",
       "  191949.0,\n",
       "  125260.0,\n",
       "  65152.0,\n",
       "  177927.0,\n",
       "  191949.0,\n",
       "  65152.0,\n",
       "  177927.0,\n",
       "  191949.0,\n",
       "  125260.0,\n",
       "  65152.0,\n",
       "  177927.0,\n",
       "  191949.0,\n",
       "  65152.0,\n",
       "  177927.0,\n",
       "  191949.0,\n",
       "  125260.0,\n",
       "  65152.0,\n",
       "  177927.0,\n",
       "  191949.0,\n",
       "  65152.0,\n",
       "  177927.0,\n",
       "  191949.0,\n",
       "  125260.0,\n",
       "  65152.0,\n",
       "  177927.0,\n",
       "  191949.0,\n",
       "  65152.0,\n",
       "  177927.0,\n",
       "  191949.0,\n",
       "  7146.0,\n",
       "  114404.0,\n",
       "  174394.0,\n",
       "  7146.0,\n",
       "  7146.0,\n",
       "  114404.0,\n",
       "  174394.0,\n",
       "  7146.0,\n",
       "  7146.0,\n",
       "  114404.0,\n",
       "  174394.0,\n",
       "  7146.0,\n",
       "  7146.0,\n",
       "  114404.0,\n",
       "  174394.0,\n",
       "  7146.0,\n",
       "  7146.0,\n",
       "  114404.0,\n",
       "  174394.0,\n",
       "  7146.0,\n",
       "  7146.0,\n",
       "  114404.0,\n",
       "  174394.0,\n",
       "  7146.0,\n",
       "  7146.0,\n",
       "  114404.0,\n",
       "  174394.0,\n",
       "  7146.0,\n",
       "  7146.0,\n",
       "  114404.0,\n",
       "  174394.0,\n",
       "  7146.0,\n",
       "  7146.0,\n",
       "  115552.0,\n",
       "  125968.0,\n",
       "  115552.0,\n",
       "  125968.0,\n",
       "  115552.0,\n",
       "  125968.0,\n",
       "  115552.0,\n",
       "  125968.0,\n",
       "  115552.0,\n",
       "  125968.0,\n",
       "  115552.0,\n",
       "  125968.0,\n",
       "  115552.0,\n",
       "  125968.0,\n",
       "  115552.0,\n",
       "  125968.0,\n",
       "  151138.0,\n",
       "  114729.0,\n",
       "  151138.0,\n",
       "  114729.0,\n",
       "  151138.0,\n",
       "  114729.0,\n",
       "  151138.0,\n",
       "  114729.0,\n",
       "  151138.0,\n",
       "  114729.0,\n",
       "  151138.0,\n",
       "  114729.0,\n",
       "  151138.0,\n",
       "  114729.0,\n",
       "  151138.0,\n",
       "  114729.0,\n",
       "  115272.0,\n",
       "  114441.0,\n",
       "  126487.0,\n",
       "  115272.0,\n",
       "  114441.0,\n",
       "  126487.0,\n",
       "  115272.0,\n",
       "  114441.0,\n",
       "  126487.0,\n",
       "  115272.0,\n",
       "  114441.0,\n",
       "  126487.0,\n",
       "  115272.0,\n",
       "  114441.0,\n",
       "  126487.0,\n",
       "  115272.0,\n",
       "  114441.0,\n",
       "  126487.0,\n",
       "  115272.0,\n",
       "  114441.0,\n",
       "  126487.0,\n",
       "  115272.0,\n",
       "  114441.0,\n",
       "  126487.0,\n",
       "  113092.0,\n",
       "  125165.0,\n",
       "  181238.0,\n",
       "  113092.0,\n",
       "  125165.0,\n",
       "  181238.0,\n",
       "  113092.0,\n",
       "  125165.0,\n",
       "  181238.0,\n",
       "  113092.0,\n",
       "  125165.0,\n",
       "  181238.0,\n",
       "  113092.0,\n",
       "  125165.0,\n",
       "  181238.0,\n",
       "  113092.0,\n",
       "  125165.0,\n",
       "  181238.0,\n",
       "  113092.0,\n",
       "  125165.0,\n",
       "  181238.0,\n",
       "  113092.0,\n",
       "  125165.0,\n",
       "  181238.0,\n",
       "  176423.0,\n",
       "  176423.0,\n",
       "  176423.0,\n",
       "  176423.0,\n",
       "  176423.0,\n",
       "  176423.0,\n",
       "  176423.0,\n",
       "  176423.0,\n",
       "  85471.0,\n",
       "  85471.0,\n",
       "  85471.0,\n",
       "  85471.0,\n",
       "  85471.0,\n",
       "  85471.0,\n",
       "  85471.0,\n",
       "  85471.0,\n",
       "  125620.0,\n",
       "  125620.0,\n",
       "  125620.0,\n",
       "  125620.0,\n",
       "  125620.0,\n",
       "  125620.0,\n",
       "  125620.0,\n",
       "  125620.0,\n",
       "  181841.0,\n",
       "  181841.0,\n",
       "  181841.0,\n",
       "  181841.0,\n",
       "  181841.0,\n",
       "  181841.0,\n",
       "  181841.0,\n",
       "  181841.0,\n",
       "  146841.0,\n",
       "  146841.0,\n",
       "  146841.0,\n",
       "  146841.0,\n",
       "  146841.0,\n",
       "  146841.0,\n",
       "  146841.0,\n",
       "  146841.0,\n",
       "  143793.0,\n",
       "  193275.0,\n",
       "  143793.0,\n",
       "  193275.0,\n",
       "  143793.0,\n",
       "  193275.0,\n",
       "  143793.0,\n",
       "  193275.0,\n",
       "  143793.0,\n",
       "  193275.0,\n",
       "  143793.0,\n",
       "  193275.0,\n",
       "  143793.0,\n",
       "  193275.0,\n",
       "  143793.0,\n",
       "  193275.0],\n",
       " [145429.0]]"
      ]
     },
     "execution_count": 62,
     "metadata": {},
     "output_type": "execute_result"
    }
   ],
   "source": [
    "linkslists[60]"
   ]
  },
  {
   "cell_type": "code",
   "execution_count": 88,
   "metadata": {
    "collapsed": false
   },
   "outputs": [
    {
     "data": {
      "image/png": "[encoded data removed]",
      "text/plain": [
       "<matplotlib.figure.Figure at 0x11cadcac8>"
      ]
     },
     "metadata": {},
     "output_type": "display_data"
    },
    {
     "name": "stdout",
     "output_type": "stream",
     "text": [
      "[-73.9709918 -73.9714516  40.7583747  40.7577482]\n"
     ]
    }
   ],
   "source": [
    "i = 29\n",
    "threshold = thresholds[i]\n",
    "qIdx = [errs.index(t) for t in errs if t is not np.nan and int(t)<threshold]\n",
    "qIdx = list(set(qIdx))\n",
    "qualified = [req_links[idx] for idx in qIdx]\n",
    "\n",
    "colors = ['r', 'g', 'b']\n",
    "count = 0\n",
    "plt.figure(0)\n",
    "#link = qualified[0]\n",
    "for i in range(len(temp)):\n",
    "    if len(temp[i])>1:\n",
    "        for c in temp[i]:\n",
    "            plt.plot([c[0]], [c[1]], marker='o', color=colors[count])\n",
    "        count += 1\n",
    "\n",
    "for link in qualified:\n",
    "    coords=links[['startX','endX','startY','endY']][links['link_id']==link].values[0]\n",
    "    plt.xlim([-74,-73.96])\n",
    "    plt.ylim([40.75,40.76])\n",
    "    plt.arrow(coords[0], coords[2], (coords[1]-coords[0]), (coords[3]-coords[2]),width = 0.00005, head_width=0.0005, head_length=0.0005, \n",
    "               fc='k', ec='k')\n",
    "plt.show()\n",
    "\n",
    "print(coords)"
   ]
  },
  {
   "cell_type": "code",
   "execution_count": 37,
   "metadata": {
    "collapsed": false
   },
   "outputs": [],
   "source": [
    "i = 29\n",
    "threshold = thresholds[i]\n",
    "qIdx = [errs.index(t) for t in errs if t is not np.nan and int(t)<threshold]\n",
    "qIdx = list(set(qIdx))\n",
    "qualified = [req_links[idx] for idx in qIdx]\n",
    "\n",
    "import folium\n",
    "from folium.features import (WmsTileLayer, RegularPolygonMarker, Vega, GeoJson,\n",
    "                       CircleMarker, LatLngPopup,\n",
    "                       ClickForMarker, TopoJson, PolyLine, MultiPolyLine,\n",
    "                       )\n",
    "NY_COORDINATES = (40.7472,-73.98)\n",
    "\n",
    "m =folium.Map(location=NY_COORDINATES, tiles='cartodbpositron',zoom_start=14)\n",
    "\n",
    "c = 1\n",
    "\n",
    "for link in qualified:\n",
    "    coords=links[['startX','endX','startY','endY']][links['link_id']==link].values[0]\n",
    "    loc=[[coords[2],coords[0]],[coords[3],coords[1]]]\n",
    "    m.add_children(PolyLine(locations=loc,color='red'))\n",
    "    c = c+1\n",
    "    \n",
    "\n"
   ]
  },
  {
   "cell_type": "code",
   "execution_count": 38,
   "metadata": {
    "collapsed": false,
    "scrolled": true
   },
   "outputs": [
    {
     "data": {
      "text/html": [
       "<div style=\"width:100%;\"><div style=\"position:relative;width:100%;height:0;padding-bottom:60%;\"><iframe src=\"data:text/html;base64,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\" style=\"position:absolute;width:100%;height:100%;left:0;top:0;\"></iframe></div></div>"
      ],
      "text/plain": [
       "<folium.folium.Map at 0x114d386a0>"
      ]
     },
     "execution_count": 38,
     "metadata": {},
     "output_type": "execute_result"
    }
   ],
   "source": [
    "m"
   ]
  },
  {
   "cell_type": "code",
   "execution_count": 32,
   "metadata": {
    "collapsed": false
   },
   "outputs": [],
   "source": [
    "orderDic = {}\n",
    "orderDicList = []\n",
    "\n",
    "#108512 in order \n",
    "count = 0\n",
    "for perThres in linkslists:\n",
    "    #perThres = linkslists[20]\n",
    "    for perComp in perThres:\n",
    "        #get the minimum order in this component if exist, get the order for this component\n",
    "        orders = [orderDic[link] for link in perComp if link in orderDic]\n",
    "        if len(orders) == 0:\n",
    "            count = count + 1\n",
    "            minOrder = count\n",
    "        else:\n",
    "            minOrder = min(orders)\n",
    "        #sign the link with minimum order\n",
    "        for link in perComp:\n",
    "            orderDic[link] = minOrder\n",
    "    #print(len(orderDic))\n",
    "    #temp = copy.deepcopy(orderDic)\n",
    "    #deep copy\n",
    "    temp = {}\n",
    "    for key in orderDic:\n",
    "        temp[key] = orderDic[key]\n",
    "    orderDicList.append(temp)"
   ]
  },
  {
   "cell_type": "code",
   "execution_count": 92,
   "metadata": {
    "collapsed": false
   },
   "outputs": [],
   "source": [
    "# orderDicList[60]"
   ]
  },
  {
   "cell_type": "code",
   "execution_count": 91,
   "metadata": {
    "collapsed": false
   },
   "outputs": [
    {
     "name": "stdout",
     "output_type": "stream",
     "text": [
      "19\n"
     ]
    }
   ],
   "source": [
    "maxn = []\n",
    "#print(orderDicList[12])\n",
    "#print(max(orderDicList[12].values()))\n",
    "\n",
    "for orderDic in orderDicList:\n",
    "    if len(orderDic) is not 0:\n",
    "        n = max(orderDic.values())\n",
    "        maxn.append(n)\n",
    "\n",
    "n = max(maxn)\n",
    "print(n)\n",
    "begin = []\n",
    "life = []\n",
    "for i in range(1,(n+1)):\n",
    "    count = 0\n",
    "    for j in range(len(orderDicList)):\n",
    "        if i in orderDicList[j].values():\n",
    "            if count == 0:\n",
    "                beginP = j+1\n",
    "            count = count+1\n",
    "        #elif i == 1 and i not in orderDicList[j].values():\n",
    "            #print(j)\n",
    "    begin.append(beginP)\n",
    "    life.append(count)"
   ]
  },
  {
   "cell_type": "code",
   "execution_count": 92,
   "metadata": {
    "collapsed": false
   },
   "outputs": [
    {
     "name": "stdout",
     "output_type": "stream",
     "text": [
      "61\n"
     ]
    }
   ],
   "source": [
    "print(len(orderDicList))"
   ]
  },
  {
   "cell_type": "code",
   "execution_count": 95,
   "metadata": {
    "collapsed": false
   },
   "outputs": [],
   "source": [
    "begin = np.array(begin)+9"
   ]
  },
  {
   "cell_type": "code",
   "execution_count": 100,
   "metadata": {
    "collapsed": false
   },
   "outputs": [
    {
     "data": {
      "text/plain": [
       "array([13, 15, 16, 17, 18, 18, 18, 19, 19, 20, 20, 22, 23, 23, 24, 24, 26,\n",
       "       26, 41])"
      ]
     },
     "execution_count": 100,
     "metadata": {},
     "output_type": "execute_result"
    }
   ],
   "source": [
    "begin"
   ]
  },
  {
   "cell_type": "code",
   "execution_count": 96,
   "metadata": {
    "collapsed": false
   },
   "outputs": [
    {
     "data": {
      "text/plain": [
       "[58, 56, 2, 44, 49, 45, 1, 50, 1, 1, 36, 1, 41, 1, 40, 1, 43, 1, 30]"
      ]
     },
     "execution_count": 96,
     "metadata": {},
     "output_type": "execute_result"
    }
   ],
   "source": [
    "life"
   ]
  },
  {
   "cell_type": "code",
   "execution_count": 97,
   "metadata": {
    "collapsed": false
   },
   "outputs": [
    {
     "data": {
      "text/plain": [
       "[10, 20, 30, 40, 50, 60]"
      ]
     },
     "execution_count": 97,
     "metadata": {},
     "output_type": "execute_result"
    }
   ],
   "source": [
    "list(range(10,70,10))"
   ]
  },
  {
   "cell_type": "code",
   "execution_count": 98,
   "metadata": {
    "collapsed": false
   },
   "outputs": [],
   "source": [
    "end = np.array(begin) + np.array(life)"
   ]
  },
  {
   "cell_type": "code",
   "execution_count": 99,
   "metadata": {
    "collapsed": false
   },
   "outputs": [
    {
     "data": {
      "image/png": "[encoded data removed]",
      "text/plain": [
       "<matplotlib.figure.Figure at 0x112915518>"
      ]
     },
     "metadata": {},
     "output_type": "display_data"
    }
   ],
   "source": [
    "fig0=plt.figure()\n",
    "#y = [(i+1) for i in range(len(barcode))]\n",
    "y = [(i+1) for i in range(len(life))]\n",
    "#x = [(barcode[i][1]+barcode[i][0])/2 for i in range(len(barcode))]\n",
    "x = [(begin[i] + end[i])/2 for i in range(len(life))]\n",
    "#x_err = [(barcode[i][1]-barcode[i][0])/2 for i in range(len(barcode))]\n",
    "x_err = [(begin[i] - end[i])/2 for i in range(len(life))]\n",
    "_, caps, _ = plt.errorbar(x=x, y=y, xerr=x_err, ls='',\n",
    "                          elinewidth=3, capsize=5)\n",
    "for cap in caps:\n",
    "    cap.set_markeredgewidth(0)\n",
    "plt.grid(True)\n",
    "\n",
    "# Set the y-range so we can see all the errorbars clearly\n",
    "plt.ylim(0, len(life)+2)\n",
    "plt.show()\n"
   ]
  },
  {
   "cell_type": "code",
   "execution_count": null,
   "metadata": {
    "collapsed": true
   },
   "outputs": [],
   "source": []
  }
 ],
 "metadata": {
  "anaconda-cloud": {},
  "kernelspec": {
   "display_name": "Python [Root]",
   "language": "python",
   "name": "Python [Root]"
  },
  "language_info": {
   "codemirror_mode": {
    "name": "ipython",
    "version": 3
   },
   "file_extension": ".py",
   "mimetype": "text/x-python",
   "name": "python",
   "nbconvert_exporter": "python",
   "pygments_lexer": "ipython3",
   "version": "3.5.2"
  }
 },
 "nbformat": 4,
 "nbformat_minor": 0
}
